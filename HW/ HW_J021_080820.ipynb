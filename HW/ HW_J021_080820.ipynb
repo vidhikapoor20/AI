{
  "nbformat": 4,
  "nbformat_minor": 0,
  "metadata": {
    "colab": {
      "name": "HW_J021_080820.ipynb",
      "provenance": [],
      "authorship_tag": "ABX9TyOoSVl1Z1WIFc6rkCwFwjPv",
      "include_colab_link": true
    },
    "kernelspec": {
      "name": "python3",
      "display_name": "Python 3"
    }
  },
  "cells": [
    {
      "cell_type": "markdown",
      "metadata": {
        "id": "view-in-github",
        "colab_type": "text"
      },
      "source": [
        "<a href=\"https://colab.research.google.com/github/vidhikapoor20/AI/blob/master/HW/%20HW_J021_080820.ipynb\" target=\"_parent\"><img src=\"https://colab.research.google.com/assets/colab-badge.svg\" alt=\"Open In Colab\"/></a>"
      ]
    },
    {
      "cell_type": "code",
      "metadata": {
        "id": "jYctCwcGywqV",
        "colab_type": "code",
        "colab": {
          "base_uri": "https://localhost:8080/",
          "height": 141
        },
        "outputId": "f322472f-557a-41f3-dcbc-c0955e01f1ac"
      },
      "source": [
        "import sys\n",
        "import heapq\n",
        "\n",
        "def solve(N, M, S, V, E) :\n",
        "\n",
        "    T = tuple(set() for _ in range(N))\n",
        "    for u,v in E :\n",
        "        T[u].add(v)\n",
        "        T[v].add(u)\n",
        "    Total, order, maxValue = sum(V), sorted(range(n), reverse=True, key=(lambda i : V[i]/S[i])), 0\n",
        "        \n",
        "    def getMax(visited, connected, rejected, size, value, rejectedValue, maxValue) :\n",
        "        #print((visited, connected, rejected, size, value, rejectedValue, maxValue), file = sys.stderr)\n",
        "        if value > maxValue :\n",
        "            maxValue = value\n",
        "            \n",
        "        if not connected :\n",
        "            return maxValue\n",
        "        \n",
        "        i = getBest(connected)\n",
        "        if size + S[i] <= M :\n",
        "            maxValue = getMax(visited|{i}, (connected-{i}) | (T[i]-rejected-visited), rejected, size+S[i], value+V[i], rejectedValue, maxValue)\n",
        "            \n",
        "        if Total - (rejectedValue + V[i]) > maxValue :\n",
        "            maxValue = getMax(visited|{i}, connected-{i}, rejected | {i}, size, value, rejectedValue + V[i], maxValue)\n",
        "            \n",
        "        return maxValue\n",
        "\n",
        "    def getBest(connected) :\n",
        "        for i in order :\n",
        "            if i in connected :\n",
        "                return i\n",
        "            \n",
        "    for s in order :\n",
        "        maxValue = getMax(set(),{s},set(),0,0,0,maxValue)\n",
        "\n",
        "    return maxValue\n",
        "\n",
        "T = int(input())\n",
        "for _ in range(T) :\n",
        "    n,m = (int(_) for _ in input().split())\n",
        "    s = tuple(int(_) for _ in input().split())\n",
        "    v = tuple(int(_) for _ in input().split())\n",
        "    e = tuple((int(_)-1 for _ in input().split()) for _ in range(n-1))\n",
        "    print(solve(n,m,s,v,e))"
      ],
      "execution_count": 1,
      "outputs": [
        {
          "output_type": "stream",
          "text": [
            "1\n",
            "3 1\n",
            "1 1 1\n",
            "1 2 3\n",
            "1 2\n",
            "1 3\n",
            "3\n"
          ],
          "name": "stdout"
        }
      ]
    },
    {
      "cell_type": "markdown",
      "metadata": {
        "id": "n85t2_XO0_x0",
        "colab_type": "text"
      },
      "source": [
        "In the above code it takes input as in the format of Hackerrank. \n",
        "\n",
        "I came across one more code which also takes user input but is not same as hackerrank. Found this easier to understand. Have written explanation for the same too. "
      ]
    },
    {
      "cell_type": "code",
      "metadata": {
        "id": "bUKFtcWGzG4r",
        "colab_type": "code",
        "colab": {}
      },
      "source": [
        "def knapsack(value, weight, capacity):\n",
        "    n = len(value) - 1\n",
        " \n",
        "    # m[i][w] will store the maximum value that can be attained with a maximum\n",
        "    # capacity of w and using only the first i items\n",
        "    m = [[-1]*(capacity + 1) for _ in range(n + 1)]\n",
        " \n",
        "    return knapsack_helper(value, weight, m, n, capacity)"
      ],
      "execution_count": 2,
      "outputs": []
    },
    {
      "cell_type": "code",
      "metadata": {
        "id": "AT_ygm3e1jQw",
        "colab_type": "code",
        "colab": {
          "base_uri": "https://localhost:8080/",
          "height": 106
        },
        "outputId": "0b14d54b-1052-479f-fc4e-1cce87197b0d"
      },
      "source": [
        "def knapsack_helper(value, weight, m, i, w):\n",
        "  \n",
        "    if m[i][w] >= 0:\n",
        "        return m[i][w]\n",
        " \n",
        "    if i == 0:\n",
        "        q = 0\n",
        "    elif weight[i] <= w:\n",
        "        q = max(knapsack_helper(value, weight,\n",
        "                                m, i - 1 , w - weight[i])\n",
        "                + value[i],\n",
        "                knapsack_helper(value, weight,\n",
        "                                m, i - 1 , w))\n",
        "    else:\n",
        "        q = knapsack_helper(value, weight,\n",
        "                            m, i - 1 , w)\n",
        "    m[i][w] = q\n",
        "    return q\n",
        " \n",
        " \n",
        "n = int(input('Enter number of items: '))\n",
        "value = input('Enter the values of the {} item(s) in order: '\n",
        "              .format(n)).split()\n",
        "value = [int(v) for v in value]\n",
        "value.insert(0, None) # so that the value of the ith item is at value[i]\n",
        "weight = input('Enter the positive weights of the {} item(s) in order: '\n",
        "               .format(n)).split()\n",
        "weight = [int(w) for w in weight]\n",
        "weight.insert(0, None) # so that the weight of the ith item is at weight[i]\n",
        "capacity = int(input('Enter maximum weight: '))\n",
        " \n",
        "ans = knapsack(value, weight, capacity)\n",
        "print('The maximum value of items that can be carried:', ans)"
      ],
      "execution_count": 3,
      "outputs": [
        {
          "output_type": "stream",
          "text": [
            "Enter number of items: 5\n",
            "Enter the values of the 5 item(s) in order: 10 5 20 40 30\n",
            "Enter the positive weights of the 5 item(s) in order: 4 1 10 20 7\n",
            "Enter maximum weight: 10\n",
            "The maximum value of items that can be carried: 35\n"
          ],
          "name": "stdout"
        }
      ]
    },
    {
      "cell_type": "markdown",
      "metadata": {
        "id": "oJO_DLI81z4K",
        "colab_type": "text"
      },
      "source": [
        "The function knapsack is defined. It takes three arguments: two lists value and weight; and a number capacity. It returns the maximum value of items that doesn’t exceed capacity in weight. The function creates a table m where m[i][w] will store the maximum value that can be attained with a maximum capacity of w and using only the first i items. It calls knapsack_helper on m with i=n and w=capacity and returns its return value. The function knapsack_helper takes 5 arguments: two lists value and weight; two numbers i and w; and a table m. It returns the maximum value that can be attained using only the first i items while keeping their total weight not more than w. If m[i][w] was already computed before, this value is immediately returned. If i = 0, then 0 is returned. If weight[i] > w, then m[i][w] is set to m[i – 1][w]. Otherwise, m[i][w] = (m[i – 1][w – weight[i]] + value[i]) or m[i][w] = m[i – 1][w], whichever is larger.The above computations are done by recursively calling knapsack_helper."
      ]
    },
    {
      "cell_type": "code",
      "metadata": {
        "id": "xD149j7B1mwj",
        "colab_type": "code",
        "colab": {}
      },
      "source": [
        ""
      ],
      "execution_count": null,
      "outputs": []
    }
  ]
}