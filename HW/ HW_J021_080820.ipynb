{
  "nbformat": 4,
  "nbformat_minor": 0,
  "metadata": {
    "colab": {
      "name": "HW_J021_080820.ipynb",
      "provenance": [],
      "authorship_tag": "ABX9TyPgZikWXnrWTH/yXlhCScJK",
      "include_colab_link": true
    },
    "kernelspec": {
      "name": "python3",
      "display_name": "Python 3"
    }
  },
  "cells": [
    {
      "cell_type": "markdown",
      "metadata": {
        "id": "view-in-github",
        "colab_type": "text"
      },
      "source": [
        "<a href=\"https://colab.research.google.com/github/vidhikapoor20/AI/blob/master/HW/%20HW_J021_080820.ipynb\" target=\"_parent\"><img src=\"https://colab.research.google.com/assets/colab-badge.svg\" alt=\"Open In Colab\"/></a>"
      ]
    },
    {
      "cell_type": "code",
      "metadata": {
        "id": "VjMI47gMCUoT",
        "colab_type": "code",
        "colab": {}
      },
      "source": [
        "def knapsack(value, weight, capacity):\n",
        "    n = len(value) - 1\n",
        " \n",
        "    # m[i][w] will store the maximum value that can be attained with a maximum\n",
        "    # capacity of w and using only the first i items\n",
        "    m = [[-1]*(capacity + 1) for _ in range(n + 1)]\n",
        " \n",
        "    return knapsack_helper(value, weight, m, n, capacity)"
      ],
      "execution_count": null,
      "outputs": []
    },
    {
      "cell_type": "code",
      "metadata": {
        "id": "I4PhNbXfCqKJ",
        "colab_type": "code",
        "colab": {
          "base_uri": "https://localhost:8080/",
          "height": 106
        },
        "outputId": "145aaf2d-4b1b-4cc1-e157-7754800fc263"
      },
      "source": [
        "def knapsack_helper(value, weight, m, i, w):\n",
        "  \n",
        "    if m[i][w] >= 0:\n",
        "        return m[i][w]\n",
        " \n",
        "    if i == 0:\n",
        "        q = 0\n",
        "    elif weight[i] <= w:\n",
        "        q = max(knapsack_helper(value, weight,\n",
        "                                m, i - 1 , w - weight[i])\n",
        "                + value[i],\n",
        "                knapsack_helper(value, weight,\n",
        "                                m, i - 1 , w))\n",
        "    else:\n",
        "        q = knapsack_helper(value, weight,\n",
        "                            m, i - 1 , w)\n",
        "    m[i][w] = q\n",
        "    return q\n",
        " \n",
        " \n",
        "n = int(input('Enter number of items: '))\n",
        "value = input('Enter the values of the {} item(s) in order: '\n",
        "              .format(n)).split()\n",
        "value = [int(v) for v in value]\n",
        "value.insert(0, None) # so that the value of the ith item is at value[i]\n",
        "weight = input('Enter the positive weights of the {} item(s) in order: '\n",
        "               .format(n)).split()\n",
        "weight = [int(w) for w in weight]\n",
        "weight.insert(0, None) # so that the weight of the ith item is at weight[i]\n",
        "capacity = int(input('Enter maximum weight: '))\n",
        " \n",
        "ans = knapsack(value, weight, capacity)\n",
        "print('The maximum value of items that can be carried:', ans)"
      ],
      "execution_count": null,
      "outputs": [
        {
          "output_type": "stream",
          "text": [
            "Enter number of items: 5\n",
            "Enter the values of the 5 item(s) in order: 10 5 20 40 30\n",
            "Enter the positive weights of the 5 item(s) in order: 4 1 10 20 7\n",
            "Enter maximum weight: 10\n",
            "The maximum value of items that can be carried: 35\n"
          ],
          "name": "stdout"
        }
      ]
    },
    {
      "cell_type": "markdown",
      "metadata": {
        "id": "OtKnRa4xC0wt",
        "colab_type": "text"
      },
      "source": [
        "\n",
        "\n",
        "Knapsack function :\n",
        "Return the maximum value of items that doesn't exceed capacity.\n",
        " \n",
        "value[i] is the value of item i and weight[i] is the weight of item i\n",
        "for 1 <= i <= n where n is the number of items.\n",
        "capacity is the maximum weight."
      ]
    },
    {
      "cell_type": "markdown",
      "metadata": {
        "id": "5J-YrVLrDK-c",
        "colab_type": "text"
      },
      "source": [
        "Knapsack helper : \n",
        "\n",
        "Return maximum value of first i items attainable with weight <= w.\n",
        " \n",
        "m[i][w] will store the maximum value that can be attained with a maximum\n",
        "capacity of w and using only the first i items\n",
        "This function fills m as smaller subproblems needed to compute m[i][w] are\n",
        "solved.\n",
        " \n",
        "value[i] is the value of item i and weight[i] is the weight of item i\n",
        "for 1 <= i <= n where n is the number of items."
      ]
    },
    {
      "cell_type": "markdown",
      "metadata": {
        "id": "jV7_QmYlENpZ",
        "colab_type": "text"
      },
      "source": [
        "The function knapsack is defined. It takes three arguments: two lists value and weight; and a number capacity. It returns the maximum value of items that doesn’t exceed capacity in weight. The function creates a table m where m[i][w] will store the maximum value that can be attained with a maximum capacity of w and using only the first i items. It calls knapsack_helper on m with i=n and w=capacity and returns its return value. The function knapsack_helper takes 5 arguments: two lists value and weight; two numbers i and w; and a table m. It returns the maximum value that can be attained using only the first i items while keeping their total weight not more than w. If m[i][w] was already computed before, this value is immediately returned. If i = 0, then 0 is returned. If weight[i] > w, then m[i][w] is set to m[i – 1][w]. Otherwise, m[i][w] = (m[i – 1][w – weight[i]] + value[i]) or m[i][w] = m[i – 1][w], whichever is larger.The above computations are done by recursively calling knapsack_helper."
      ]
    },
    {
      "cell_type": "code",
      "metadata": {
        "id": "L_U5NNo-DF9P",
        "colab_type": "code",
        "colab": {}
      },
      "source": [
        ""
      ],
      "execution_count": null,
      "outputs": []
    }
  ]
}