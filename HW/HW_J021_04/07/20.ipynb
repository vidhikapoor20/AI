{
  "nbformat": 4,
  "nbformat_minor": 0,
  "metadata": {
    "colab": {
      "name": "Untitled2.ipynb",
      "provenance": [],
      "authorship_tag": "ABX9TyM8s69QYlhbdxmWP93L2Hc5",
      "include_colab_link": true
    },
    "kernelspec": {
      "name": "python3",
      "display_name": "Python 3"
    }
  },
  "cells": [
    {
      "cell_type": "markdown",
      "metadata": {
        "id": "view-in-github",
        "colab_type": "text"
      },
      "source": [
        "<a href=\"https://colab.research.google.com/github/vidhikapoor20/AI/blob/master/HW/HW_J021_04/07/20.ipynb\" target=\"_parent\"><img src=\"https://colab.research.google.com/assets/colab-badge.svg\" alt=\"Open In Colab\"/></a>"
      ]
    },
    {
      "cell_type": "code",
      "metadata": {
        "id": "C3n4E5YzA8jE",
        "colab_type": "code",
        "colab": {}
      },
      "source": [
        "#If-else\n",
        "import math\n",
        "import os\n",
        "import random\n",
        "import re\n",
        "import sys\n",
        "\n",
        "N = int(input())\n",
        "if (N%2 == 1) :\n",
        "    print('Weird')\n",
        "else :\n",
        "    if(N>=2 and N<=5):\n",
        "        print(\"Not Weird\")\n",
        "    elif(N>=0 and N<=20):\n",
        "        print(\"Weird\")\n",
        "    elif(N>20) :\n",
        "        print(\"Not Weird\")"
      ],
      "execution_count": null,
      "outputs": []
    },
    {
      "cell_type": "code",
      "metadata": {
        "id": "Xk9diguGA_XC",
        "colab_type": "code",
        "colab": {}
      },
      "source": [
        "# Arithmetic Operators\n",
        "a = int(input())\n",
        "b = int(input())\n",
        "print(a+b)\n",
        "print(a-b)\n",
        "print(a*b)"
      ],
      "execution_count": null,
      "outputs": []
    },
    {
      "cell_type": "code",
      "metadata": {
        "id": "IF2ScwRPBNAU",
        "colab_type": "code",
        "colab": {}
      },
      "source": [
        "## Division\n",
        "a = int(input())\n",
        "b = int(input())\n",
        "print(a//b)\n",
        "print(a/b)"
      ],
      "execution_count": null,
      "outputs": []
    },
    {
      "cell_type": "code",
      "metadata": {
        "id": "chJPLqv4BhMC",
        "colab_type": "code",
        "colab": {}
      },
      "source": [
        "## Loops\n",
        "n = int(input())\n",
        "j=0\n",
        "while(j<n):\n",
        "    print(j*j)\n",
        "    j=j+1"
      ],
      "execution_count": null,
      "outputs": []
    },
    {
      "cell_type": "code",
      "metadata": {
        "id": "1qs1Bh06BrZJ",
        "colab_type": "code",
        "colab": {}
      },
      "source": [
        "## Print\n",
        "n = int(input())\n",
        "for i in range(1,n+1):\n",
        "    print(i,end=\"\")"
      ],
      "execution_count": null,
      "outputs": []
    },
    {
      "cell_type": "code",
      "metadata": {
        "id": "TX04B9kUB1kz",
        "colab_type": "code",
        "colab": {}
      },
      "source": [
        "## List comprehension \n",
        "x = int(input())\n",
        "y = int(input())\n",
        "z = int(input())\n",
        "n = int(input())\n",
        "l=list()\n",
        "for i in range(x+1):\n",
        "    for j in range(y+1):\n",
        "        for k in range(z+1):\n",
        "            if(i+j+k!=n):\n",
        "                l.append([i,j,k])\n",
        "print(l)"
      ],
      "execution_count": null,
      "outputs": []
    },
    {
      "cell_type": "code",
      "metadata": {
        "id": "C47zHXJ3COy5",
        "colab_type": "code",
        "colab": {}
      },
      "source": [
        ""
      ],
      "execution_count": null,
      "outputs": []
    }
  ]
}