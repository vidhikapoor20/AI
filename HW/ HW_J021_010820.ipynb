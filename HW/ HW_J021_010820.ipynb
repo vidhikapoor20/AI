{
  "nbformat": 4,
  "nbformat_minor": 0,
  "metadata": {
    "colab": {
      "name": "HW_J021_010820.ipynb",
      "provenance": [],
      "authorship_tag": "ABX9TyMLS2HgX8LuPQbfQPvpz+6h",
      "include_colab_link": true
    },
    "kernelspec": {
      "name": "python3",
      "display_name": "Python 3"
    }
  },
  "cells": [
    {
      "cell_type": "markdown",
      "metadata": {
        "id": "view-in-github",
        "colab_type": "text"
      },
      "source": [
        "<a href=\"https://colab.research.google.com/github/vidhikapoor20/AI/blob/master/HW/%20HW_J021_010820.ipynb\" target=\"_parent\"><img src=\"https://colab.research.google.com/assets/colab-badge.svg\" alt=\"Open In Colab\"/></a>"
      ]
    },
    {
      "cell_type": "markdown",
      "metadata": {
        "id": "GK9WhUHIqH46",
        "colab_type": "text"
      },
      "source": [
        "VALIDATING POSTAL CODE PROBLEM"
      ]
    },
    {
      "cell_type": "code",
      "metadata": {
        "id": "F1vQ9vcbqGdh",
        "colab_type": "code",
        "colab": {}
      },
      "source": [
        "import sys\n",
        "stdin=sys.stdin #stdin is the standard input which the user wants to give\n",
        "\n",
        "import re\n",
        "line=stdin.readline().strip() #it will read the input and then strip function removes all the whitespaces at the starting or the end of the string if any\n",
        "print(re.match(\"^[1-9][0-9]{5}$\",line) !=None and [ord(line[i])-ord(line[i+2]) for i in range(4)].count(0)<=1) #checks if all are digits and then checks for alternate numbers. "
      ],
      "execution_count": null,
      "outputs": []
    },
    {
      "cell_type": "markdown",
      "metadata": {
        "id": "N0uF-TjQ3jcz",
        "colab_type": "text"
      },
      "source": [
        "COIN CHANGE PROBLEM"
      ]
    },
    {
      "cell_type": "code",
      "metadata": {
        "id": "h7FIMiCIqPVD",
        "colab_type": "code",
        "colab": {}
      },
      "source": [
        "#!/bin/python3\n",
        "\n",
        "import math\n",
        "import os\n",
        "import random\n",
        "import re\n",
        "import sys\n",
        "\n",
        "#\n",
        "# Complete the 'getWays' function below.\n",
        "#\n",
        "# The function is expected to return a LONG_INTEGER.\n",
        "# The function accepts following parameters:\n",
        "#  1. INTEGER n\n",
        "#  2. LONG_INTEGER_ARRAY c\n",
        "#\n",
        "\n",
        "def getWays(n, c):\n",
        "    arr = [0 for h in range(n+1)]\n",
        "    arr[0] = 1\n",
        "\n",
        "    for k in c: #k represnts the coin which we have and i represents the coin value whose combinations we have to find \n",
        "        for i in range(1,n+1):\n",
        "            if n>=k: #its redundant to use values above n because it will be of no use. \n",
        "                if i>=k:\n",
        "                    arr[i] += arr[i-k]\n",
        "    return arr\n",
        "if __name__ == '__main__':\n",
        "    fptr = open(os.environ['OUTPUT_PATH'], 'w')\n",
        "\n",
        "    first_multiple_input = input().rstrip().split()\n",
        "\n",
        "    n = int(first_multiple_input[0])\n",
        "\n",
        "    m = int(first_multiple_input[1])\n",
        "\n",
        "    c = list(map(int, input().rstrip().split()))\n",
        "\n",
        "    # Print the number of ways of making change for 'n' units using coins having the values given by 'c'\n",
        "\n",
        "    ways = getWays(n, c)\n",
        "    ways = ways[-1]\n",
        "    fptr.write(str(ways) + '\\n')\n",
        "\n",
        "    fptr.close()"
      ],
      "execution_count": null,
      "outputs": []
    },
    {
      "cell_type": "markdown",
      "metadata": {
        "id": "OxivSxiF9WRI",
        "colab_type": "text"
      },
      "source": [
        "SHERLOCK AND COST PROBLEM"
      ]
    },
    {
      "cell_type": "code",
      "metadata": {
        "id": "qMaAFm9Q9fCv",
        "colab_type": "code",
        "colab": {}
      },
      "source": [
        "#!/bin/python3\n",
        "\n",
        "import math\n",
        "import os\n",
        "import random\n",
        "import re\n",
        "import sys\n",
        "\n",
        "#making the cost function to compute what we need. which is summation of Ai - A(i-1) from 2 to n\n",
        "# Complete the cost function below.\n",
        "def cost(B,n):\n",
        "    A = [[0 for col in range(0,2)] for row in range(0,100000)]\n",
        "    for i in range(1,n):\n",
        "        \n",
        "        A[i][0] = max(A[i-1][0],A[i-1][1] + abs(B[i-1]-1))  \n",
        "        A[i][1] = max(A[i-1][0] + abs(B[i] - 1),A[i-1][1])\n",
        "\n",
        "    return max(A[n-1][0],A[n-1][1])\n",
        "  \n",
        "#printing the output and calling the function from above\n",
        "if __name__ == '__main__':\n",
        "    fptr = open(os.environ['OUTPUT_PATH'], 'w')\n",
        "\n",
        "    t = int(input())\n",
        "\n",
        "    for t_itr in range(t):\n",
        "        n = int(input())\n",
        "\n",
        "        B = list(map(int, input().rstrip().split()))\n",
        "\n",
        "        result = cost(B,n)\n",
        "\n",
        "        fptr.write(str(result) + '\\n')\n",
        "\n",
        "    fptr.close()\n"
      ],
      "execution_count": null,
      "outputs": []
    }
  ]
}