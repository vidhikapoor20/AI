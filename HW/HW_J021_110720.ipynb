{
  "nbformat": 4,
  "nbformat_minor": 0,
  "metadata": {
    "colab": {
      "name": "HW_J021_110720.ipynb",
      "provenance": [],
      "authorship_tag": "ABX9TyOn7yp0v2z80x/+UyKIQU+q",
      "include_colab_link": true
    },
    "kernelspec": {
      "name": "python3",
      "display_name": "Python 3"
    }
  },
  "cells": [
    {
      "cell_type": "markdown",
      "metadata": {
        "id": "view-in-github",
        "colab_type": "text"
      },
      "source": [
        "<a href=\"https://colab.research.google.com/github/vidhikapoor20/AI/blob/master/HW/HW_J021_110720.ipynb\" target=\"_parent\"><img src=\"https://colab.research.google.com/assets/colab-badge.svg\" alt=\"Open In Colab\"/></a>"
      ]
    },
    {
      "cell_type": "code",
      "metadata": {
        "id": "6UUvjLD5zWlg",
        "colab_type": "code",
        "colab": {
          "base_uri": "https://localhost:8080/",
          "height": 70
        },
        "outputId": "36ad9ece-a985-4811-9e73-a1278bd81f5b"
      },
      "source": [
        "import numpy as np\n",
        "import pandas as pd\n",
        "import seaborn as sns\n",
        "import matplotlib.pyplot as plt"
      ],
      "execution_count": 1,
      "outputs": [
        {
          "output_type": "stream",
          "text": [
            "/usr/local/lib/python3.6/dist-packages/statsmodels/tools/_testing.py:19: FutureWarning: pandas.util.testing is deprecated. Use the functions in the public API at pandas.testing instead.\n",
            "  import pandas.util.testing as tm\n"
          ],
          "name": "stderr"
        }
      ]
    },
    {
      "cell_type": "markdown",
      "metadata": {
        "id": "9qnSfOzZ0iCG",
        "colab_type": "text"
      },
      "source": [
        "Create a custom class DataRead to read csv file using pandas\n",
        "\n",
        "Create a custom function RowSelect within the class to select any 2 rows of  the dataframe\n",
        "\n",
        "Create a sub class of DataRead as  DataRead2  that has function for correlation plots (using any lib for correlation plot)\n",
        "\n",
        "Within DataRead2 also create a function to override the custom function of DataRead1 RowSelect to select 3 rows"
      ]
    },
    {
      "cell_type": "code",
      "metadata": {
        "id": "eXtsieNc04DL",
        "colab_type": "code",
        "colab": {}
      },
      "source": [
        "class DataRead():\n",
        "  def __init__(self,fileread):\n",
        "    self.df1=pd.read_csv(fileread)\n",
        "\n",
        "  def RowSelect(self,a,b):\n",
        "    print(self.df1.iloc[[a,b]])\n",
        "  \n",
        "class DataRead2(DataRead):\n",
        "  def __init__(self,fileread):\n",
        "    DataRead.__init__(DataRead,fileread)\n",
        "\n",
        "  def corr_plot(self):\n",
        "    df2=self.df1\n",
        "    correlation=df2.corr()\n",
        "    sns.heatmap(correlation)\n",
        "    plt.show()\n",
        "\n",
        "  def RowSelect(self,a,b,c):\n",
        "    print(self.df1.iloc[[a,b,c]])"
      ],
      "execution_count": 2,
      "outputs": []
    },
    {
      "cell_type": "code",
      "metadata": {
        "id": "IBvTwnr53ZGp",
        "colab_type": "code",
        "colab": {
          "base_uri": "https://localhost:8080/",
          "height": 197
        },
        "outputId": "50cc84bf-88f6-4c23-8f9d-77ee5ebe6ce4"
      },
      "source": [
        "## Reading the file and calling the class\n",
        "df='Weather Station Locations.csv'\n",
        "x=DataRead(df)\n",
        "x.df1.head()\n",
        "\n"
      ],
      "execution_count": 3,
      "outputs": [
        {
          "output_type": "execute_result",
          "data": {
            "text/html": [
              "<div>\n",
              "<style scoped>\n",
              "    .dataframe tbody tr th:only-of-type {\n",
              "        vertical-align: middle;\n",
              "    }\n",
              "\n",
              "    .dataframe tbody tr th {\n",
              "        vertical-align: top;\n",
              "    }\n",
              "\n",
              "    .dataframe thead th {\n",
              "        text-align: right;\n",
              "    }\n",
              "</style>\n",
              "<table border=\"1\" class=\"dataframe\">\n",
              "  <thead>\n",
              "    <tr style=\"text-align: right;\">\n",
              "      <th></th>\n",
              "      <th>WBAN</th>\n",
              "      <th>NAME</th>\n",
              "      <th>STATE/COUNTRY ID</th>\n",
              "      <th>LAT</th>\n",
              "      <th>LON</th>\n",
              "      <th>ELEV</th>\n",
              "      <th>Latitude</th>\n",
              "      <th>Longitude</th>\n",
              "    </tr>\n",
              "  </thead>\n",
              "  <tbody>\n",
              "    <tr>\n",
              "      <th>0</th>\n",
              "      <td>33013</td>\n",
              "      <td>AIN EL</td>\n",
              "      <td>AL</td>\n",
              "      <td>3623N</td>\n",
              "      <td>00637E</td>\n",
              "      <td>611</td>\n",
              "      <td>36.383333</td>\n",
              "      <td>6.650000</td>\n",
              "    </tr>\n",
              "    <tr>\n",
              "      <th>1</th>\n",
              "      <td>33031</td>\n",
              "      <td>LA SENIA</td>\n",
              "      <td>AL</td>\n",
              "      <td>3537N</td>\n",
              "      <td>00037E</td>\n",
              "      <td>88</td>\n",
              "      <td>35.616667</td>\n",
              "      <td>0.583333</td>\n",
              "    </tr>\n",
              "    <tr>\n",
              "      <th>2</th>\n",
              "      <td>33023</td>\n",
              "      <td>MAISON BLANCHE</td>\n",
              "      <td>AL</td>\n",
              "      <td>3643N</td>\n",
              "      <td>00314E</td>\n",
              "      <td>23</td>\n",
              "      <td>36.716667</td>\n",
              "      <td>3.216667</td>\n",
              "    </tr>\n",
              "    <tr>\n",
              "      <th>3</th>\n",
              "      <td>33044</td>\n",
              "      <td>TELERGMA</td>\n",
              "      <td>AL</td>\n",
              "      <td>3607N</td>\n",
              "      <td>00621E</td>\n",
              "      <td>754</td>\n",
              "      <td>36.116667</td>\n",
              "      <td>6.416667</td>\n",
              "    </tr>\n",
              "    <tr>\n",
              "      <th>4</th>\n",
              "      <td>12001</td>\n",
              "      <td>TINDOUF</td>\n",
              "      <td>AL</td>\n",
              "      <td>2741N</td>\n",
              "      <td>00809W</td>\n",
              "      <td>443</td>\n",
              "      <td>27.683333</td>\n",
              "      <td>-8.083333</td>\n",
              "    </tr>\n",
              "  </tbody>\n",
              "</table>\n",
              "</div>"
            ],
            "text/plain": [
              "    WBAN            NAME STATE/COUNTRY ID  ... ELEV   Latitude  Longitude\n",
              "0  33013          AIN EL               AL  ...  611  36.383333   6.650000\n",
              "1  33031        LA SENIA               AL  ...   88  35.616667   0.583333\n",
              "2  33023  MAISON BLANCHE               AL  ...   23  36.716667   3.216667\n",
              "3  33044        TELERGMA               AL  ...  754  36.116667   6.416667\n",
              "4  12001         TINDOUF               AL  ...  443  27.683333  -8.083333\n",
              "\n",
              "[5 rows x 8 columns]"
            ]
          },
          "metadata": {
            "tags": []
          },
          "execution_count": 3
        }
      ]
    },
    {
      "cell_type": "code",
      "metadata": {
        "id": "hLpeYq2444f0",
        "colab_type": "code",
        "colab": {
          "base_uri": "https://localhost:8080/",
          "height": 100
        },
        "outputId": "310cabe6-6327-4446-fcbb-0199c216f943"
      },
      "source": [
        "## Printing out 2 rows\n",
        "a=int(input('Enter which row number you want to display : '))\n",
        "b=int(input('Enter which row number you want to display : '))\n",
        "x.RowSelect(a-1,b-1)"
      ],
      "execution_count": 4,
      "outputs": [
        {
          "output_type": "stream",
          "text": [
            "Enter which row number you want to display : 8\n",
            "Enter which row number you want to display : 2\n",
            "    WBAN      NAME STATE/COUNTRY ID    LAT     LON  ELEV   Latitude   Longitude\n",
            "7  82501    ARCHER               AU  2735S  15301E    19 -27.583333  153.000000\n",
            "1  33031  LA SENIA               AL  3537N  00037E    88  35.616667    0.583333\n"
          ],
          "name": "stdout"
        }
      ]
    },
    {
      "cell_type": "code",
      "metadata": {
        "id": "BgwjtbuL5guK",
        "colab_type": "code",
        "colab": {
          "base_uri": "https://localhost:8080/",
          "height": 271
        },
        "outputId": "055013fc-f59c-4f06-abf3-728b9c490b53"
      },
      "source": [
        "## Correlation Plot\n",
        "x2 = DataRead2(df)\n",
        "x2.corr_plot()"
      ],
      "execution_count": 5,
      "outputs": [
        {
          "output_type": "display_data",
          "data": {
            "image/png": "[encoded data removed]",
            "text/plain": [
              "<Figure size 432x288 with 2 Axes>"
            ]
          },
          "metadata": {
            "tags": [],
            "needs_background": "light"
          }
        }
      ]
    },
    {
      "cell_type": "code",
      "metadata": {
        "id": "gWR1JcLI8Xya",
        "colab_type": "code",
        "colab": {
          "base_uri": "https://localhost:8080/",
          "height": 167
        },
        "outputId": "6f300505-bdfb-4698-ca22-1ade7872e442"
      },
      "source": [
        "## Calling dataread2 to call out 3 rows\n",
        "a=int(input('Enter which row number you want to display : '))\n",
        "b=int(input('Enter which row number you want to display : '))\n",
        "c=int(input('Enter which row number you want to display : '))\n",
        "x2.RowSelect(a-1,b-1,c-1)"
      ],
      "execution_count": 6,
      "outputs": [
        {
          "output_type": "stream",
          "text": [
            "Enter which row number you want to display : 2\n",
            "Enter which row number you want to display : 5\n",
            "Enter which row number you want to display : 3\n",
            "    WBAN            NAME STATE/COUNTRY ID  ... ELEV   Latitude  Longitude\n",
            "1  33031        LA SENIA               AL  ...   88  35.616667   0.583333\n",
            "4  12001         TINDOUF               AL  ...  443  27.683333  -8.083333\n",
            "2  33023  MAISON BLANCHE               AL  ...   23  36.716667   3.216667\n",
            "\n",
            "[3 rows x 8 columns]\n"
          ],
          "name": "stdout"
        }
      ]
    },
    {
      "cell_type": "code",
      "metadata": {
        "id": "0cTv3dwn-4Z6",
        "colab_type": "code",
        "colab": {}
      },
      "source": [
        ""
      ],
      "execution_count": null,
      "outputs": []
    }
  ]
}