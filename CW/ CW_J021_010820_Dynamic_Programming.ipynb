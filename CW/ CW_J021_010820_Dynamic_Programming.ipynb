{
  "nbformat": 4,
  "nbformat_minor": 0,
  "metadata": {
    "colab": {
      "name": "CW_J021_010820_Dynamic Programming.ipynb",
      "provenance": [],
      "include_colab_link": true
    },
    "kernelspec": {
      "name": "python3",
      "display_name": "Python 3"
    }
  },
  "cells": [
    {
      "cell_type": "markdown",
      "metadata": {
        "id": "view-in-github",
        "colab_type": "text"
      },
      "source": [
        "<a href=\"https://colab.research.google.com/github/vidhikapoor20/AI/blob/master/CW/%20CW_J021_010820_Dynamic_Programming.ipynb\" target=\"_parent\"><img src=\"https://colab.research.google.com/assets/colab-badge.svg\" alt=\"Open In Colab\"/></a>"
      ]
    },
    {
      "cell_type": "markdown",
      "metadata": {
        "id": "b1JUUtTMAO3g",
        "colab_type": "text"
      },
      "source": [
        "Factorial"
      ]
    },
    {
      "cell_type": "markdown",
      "metadata": {
        "colab_type": "text",
        "id": "ld16z_f5A1xy"
      },
      "source": [
        "# Recursion - Function Calling itself during execution\n",
        "1+2+3+4 \\n\n",
        "1+2=3 # Sum(1,2) \\n\n",
        "3+3=6 # Sum(Sum(1,2),3) \\n\n",
        "6+4=10 # Sum(Sum(Sum(1,2),3),4) \\n\n",
        "\n",
        "# Memoisation ~ Memorandum(Latin) (To be remembered)\n",
        "Storing intermediate values, through various ways\n",
        "\n",
        "\n"
      ]
    },
    {
      "cell_type": "code",
      "metadata": {
        "id": "6KqJcr81_dP8",
        "colab_type": "code",
        "colab": {}
      },
      "source": [
        "def factorial_recursion(n):\n",
        "    factor=1\n",
        "    if (n==0):\n",
        "        return factor\n",
        "    else:\n",
        "        return n*factorial_recursion(n-1)\n",
        "\n",
        "def factorial_simpl(n):\n",
        "    factor=1\n",
        "    for i in range(1,n+1):\n",
        "        factor=factor*i\n",
        "    return factor\n",
        "\n"
      ],
      "execution_count": 1,
      "outputs": []
    },
    {
      "cell_type": "code",
      "metadata": {
        "id": "7EOmy7T3GlJf",
        "colab_type": "code",
        "colab": {
          "base_uri": "https://localhost:8080/",
          "height": 35
        },
        "outputId": "17218dad-4d5a-4356-86db-cfb5f3af1cd5"
      },
      "source": [
        "factorial_recursion(5)"
      ],
      "execution_count": 2,
      "outputs": [
        {
          "output_type": "execute_result",
          "data": {
            "text/plain": [
              "120"
            ]
          },
          "metadata": {
            "tags": []
          },
          "execution_count": 2
        }
      ]
    },
    {
      "cell_type": "code",
      "metadata": {
        "id": "jrsWs-gaH8D5",
        "colab_type": "code",
        "colab": {
          "base_uri": "https://localhost:8080/",
          "height": 35
        },
        "outputId": "a2538c3f-fa55-4bd0-aa95-5b1df542e968"
      },
      "source": [
        "factorial_simpl(5)"
      ],
      "execution_count": 3,
      "outputs": [
        {
          "output_type": "execute_result",
          "data": {
            "text/plain": [
              "120"
            ]
          },
          "metadata": {
            "tags": []
          },
          "execution_count": 3
        }
      ]
    },
    {
      "cell_type": "markdown",
      "metadata": {
        "id": "ylECLxy0AaSp",
        "colab_type": "text"
      },
      "source": [
        "FIBONACCI"
      ]
    },
    {
      "cell_type": "code",
      "metadata": {
        "id": "sBw1aozOIEP9",
        "colab_type": "code",
        "colab": {}
      },
      "source": [
        "\n",
        "# Property\n",
        "# Base Case - sum(0,1)\n",
        "# nth number is sum of previous two numbers num(n)=sum(num(n-1),num(n-2))\n",
        "\n",
        "def fibo_simpl(n):\n",
        "    #Function to calculate nth Fibonacci Number\n",
        "    fibo=[]\n",
        "    #count=0\n",
        "    fibo[0],fibo[1]=0,1\n",
        "    for i in range(2,n+1):\n",
        "        fibo[i]=fibo[i-1]+fibo[i-2]\n",
        "    return fibo[n]\n"
      ],
      "execution_count": 4,
      "outputs": []
    },
    {
      "cell_type": "code",
      "metadata": {
        "id": "RpBCvw6cQ8VD",
        "colab_type": "code",
        "colab": {}
      },
      "source": [
        "def fibo_1(n):\n",
        "    # n: whole number \n",
        "    # returns the n+1th number\n",
        "    if n==0 or n==1:\n",
        "        return n \n",
        "    else : \n",
        "        return fibo_1(n-1)+fibo_1(n-2)"
      ],
      "execution_count": 5,
      "outputs": []
    },
    {
      "cell_type": "code",
      "metadata": {
        "id": "ZSlpvd4gU0D6",
        "colab_type": "code",
        "colab": {
          "base_uri": "https://localhost:8080/",
          "height": 36
        },
        "outputId": "33cdb88e-89f2-4518-a6e1-f29ac20d969b"
      },
      "source": [
        "#Binary Search\n",
        "list =[5,3,2,1,5,6,7,123,97,65,34,22,344,2245,122,45]\n",
        "\n",
        "\"\"\"\n",
        "Searching an element in a list\n",
        "\"\"\""
      ],
      "execution_count": 6,
      "outputs": [
        {
          "output_type": "execute_result",
          "data": {
            "application/vnd.google.colaboratory.intrinsic+json": {
              "type": "string"
            },
            "text/plain": [
              "'\\nSearching an element in a list\\n'"
            ]
          },
          "metadata": {
            "tags": []
          },
          "execution_count": 6
        }
      ]
    },
    {
      "cell_type": "markdown",
      "metadata": {
        "id": "G2Zf2qrnXI-2",
        "colab_type": "text"
      },
      "source": [
        "Tractable - PTIME (Polynomial Time Solvable)Solution is in Polynomial Time\n",
        "Polynomial - expression where each term is n^k where k can be any whole number\n",
        "Degree of the polynomial highest power of the variable within the expression \n",
        "\n",
        "Polynomial Time - Runtime of the code or solution should be a polynomial of degree k where k is a constant, and since it is time n cannot be negative\n",
        "n: input space or dimension \n",
        "eg O(n^4) - 3*n^4+2*n^2+1\n",
        "n=1 => 1\n",
        "n=2 => 2^4\n",
        "n=3 => 3^4\n",
        "n=4 => 4^4 ...\n",
        "\n",
        "O(n!)\n",
        "n*n-1*n-2*...1 -> It is not a polynomial - Non Polynomial Time (NP)\n"
      ]
    },
    {
      "cell_type": "code",
      "metadata": {
        "id": "XgMfiB7QV6K4",
        "colab_type": "code",
        "colab": {}
      },
      "source": [
        "list1=list.copy().sort()"
      ],
      "execution_count": 7,
      "outputs": []
    },
    {
      "cell_type": "code",
      "metadata": {
        "id": "OcQoc9cTWSba",
        "colab_type": "code",
        "colab": {
          "base_uri": "https://localhost:8080/",
          "height": 35
        },
        "outputId": "dda7e5e2-f9aa-4bf0-dd08-173cd6dd5bed"
      },
      "source": [
        "list"
      ],
      "execution_count": 8,
      "outputs": [
        {
          "output_type": "execute_result",
          "data": {
            "text/plain": [
              "[5, 3, 2, 1, 5, 6, 7, 123, 97, 65, 34, 22, 344, 2245, 122, 45]"
            ]
          },
          "metadata": {
            "tags": []
          },
          "execution_count": 8
        }
      ]
    }
  ]
}