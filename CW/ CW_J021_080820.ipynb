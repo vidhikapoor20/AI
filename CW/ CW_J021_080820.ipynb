{
  "nbformat": 4,
  "nbformat_minor": 0,
  "metadata": {
    "colab": {
      "name": "CW_J021_080820.ipynb",
      "provenance": [],
      "authorship_tag": "ABX9TyNGoPEQY0j73z9q2bdbd+j4",
      "include_colab_link": true
    },
    "kernelspec": {
      "name": "python3",
      "display_name": "Python 3"
    }
  },
  "cells": [
    {
      "cell_type": "markdown",
      "metadata": {
        "id": "view-in-github",
        "colab_type": "text"
      },
      "source": [
        "<a href=\"https://colab.research.google.com/github/vidhikapoor20/AI/blob/master/CW/%20CW_J021_080820.ipynb\" target=\"_parent\"><img src=\"https://colab.research.google.com/assets/colab-badge.svg\" alt=\"Open In Colab\"/></a>"
      ]
    },
    {
      "cell_type": "markdown",
      "metadata": {
        "id": "AQn7KhF6AKz3",
        "colab_type": "text"
      },
      "source": [
        "PTIME : If n is the input size then, if complete computation can be done or expressed in a polynomial (algebraic expression with degree or highest power as a whole number) \n",
        "\n",
        "Time complexity is O(n^k) where a polynomial of n^k+a1*n*k-1+... will be order of n^k"
      ]
    },
    {
      "cell_type": "markdown",
      "metadata": {
        "id": "U5MOCuq8EC8o",
        "colab_type": "text"
      },
      "source": [
        "Is negative feasible Negative \n",
        "n^-1/3 -> 1/n^1/3\n",
        "n=27 n=216\n",
        "1/3 , 1/6\n",
        "1/3>1/6\n",
        "Can time for computation decrease as inputs increase ?"
      ]
    },
    {
      "cell_type": "code",
      "metadata": {
        "id": "CZawppgoAwwt",
        "colab_type": "code",
        "colab": {
          "base_uri": "https://localhost:8080/",
          "height": 35
        },
        "outputId": "d37e97fa-c102-4f1a-c4b2-66203c3bbacb"
      },
      "source": [
        "def fact(n):\n",
        "  product=1\n",
        "  for i in range(n):\n",
        "    product=product*(i+1)\n",
        "  return product\n",
        "\n",
        "print(fact(5))"
      ],
      "execution_count": 3,
      "outputs": [
        {
          "output_type": "stream",
          "text": [
            "120\n"
          ],
          "name": "stdout"
        }
      ]
    },
    {
      "cell_type": "markdown",
      "metadata": {
        "id": "4gXMhzoHFItH",
        "colab_type": "text"
      },
      "source": [
        "![image.png](data:image/png;base64,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)"
      ]
    },
    {
      "cell_type": "code",
      "metadata": {
        "id": "yieKcM7vGI4z",
        "colab_type": "code",
        "colab": {
          "base_uri": "https://localhost:8080/",
          "height": 52
        },
        "outputId": "7ffa76c6-76d9-43d5-c352-fcf989b0e634"
      },
      "source": [
        "%timeit(fact(5))"
      ],
      "execution_count": 4,
      "outputs": [
        {
          "output_type": "stream",
          "text": [
            "The slowest run took 4.74 times longer than the fastest. This could mean that an intermediate result is being cached.\n",
            "1000000 loops, best of 3: 498 ns per loop\n"
          ],
          "name": "stdout"
        }
      ]
    },
    {
      "cell_type": "code",
      "metadata": {
        "id": "ADwdMQ9pGUYp",
        "colab_type": "code",
        "colab": {
          "base_uri": "https://localhost:8080/",
          "height": 35
        },
        "outputId": "c8a328df-f841-4382-8447-161dd259c8a3"
      },
      "source": [
        "%timeit(fact(50))"
      ],
      "execution_count": 5,
      "outputs": [
        {
          "output_type": "stream",
          "text": [
            "100000 loops, best of 3: 3.76 µs per loop\n"
          ],
          "name": "stdout"
        }
      ]
    },
    {
      "cell_type": "markdown",
      "metadata": {
        "id": "21ITFPRzGm8A",
        "colab_type": "text"
      },
      "source": [
        "We see an increase in run time as n or input increases. "
      ]
    },
    {
      "cell_type": "code",
      "metadata": {
        "id": "Mf4PI2voGfAc",
        "colab_type": "code",
        "colab": {}
      },
      "source": [
        "def sum(a,b):\n",
        "  return a+b"
      ],
      "execution_count": 6,
      "outputs": []
    },
    {
      "cell_type": "code",
      "metadata": {
        "id": "LGLmnBZrJDSq",
        "colab_type": "code",
        "colab": {
          "base_uri": "https://localhost:8080/",
          "height": 35
        },
        "outputId": "ecd0ade0-d3f3-4520-adcc-d4f6ec4a4c9d"
      },
      "source": [
        "%timeit sum(5,10)"
      ],
      "execution_count": 7,
      "outputs": [
        {
          "output_type": "stream",
          "text": [
            "10000000 loops, best of 3: 91.8 ns per loop\n"
          ],
          "name": "stdout"
        }
      ]
    },
    {
      "cell_type": "code",
      "metadata": {
        "id": "jh8aLF4yJF-J",
        "colab_type": "code",
        "colab": {
          "base_uri": "https://localhost:8080/",
          "height": 52
        },
        "outputId": "11f61881-45e9-4663-f0ae-436a72bab3a8"
      },
      "source": [
        "%timeit sum(50,100)"
      ],
      "execution_count": 8,
      "outputs": [
        {
          "output_type": "stream",
          "text": [
            "The slowest run took 19.39 times longer than the fastest. This could mean that an intermediate result is being cached.\n",
            "10000000 loops, best of 3: 90.9 ns per loop\n"
          ],
          "name": "stdout"
        }
      ]
    },
    {
      "cell_type": "markdown",
      "metadata": {
        "id": "b2dX3Xa4JQlg",
        "colab_type": "text"
      },
      "source": [
        "So we see that here the time is almost same as there are no loops or iterations. "
      ]
    },
    {
      "cell_type": "markdown",
      "metadata": {
        "id": "oVZHmkFVoQSa",
        "colab_type": "text"
      },
      "source": [
        "NP(problem)-soln is non polynomial time\n",
        "\n",
        "P(problem)-max soln time or upper bound is in Polynomial time\n",
        "\n",
        "O(logn) is upper bounded by O(n), and O(nlogn) is upper bounded by O(n2), therefore they are both in P."
      ]
    },
    {
      "cell_type": "markdown",
      "metadata": {
        "id": "byhsGLZawqUS",
        "colab_type": "text"
      },
      "source": [
        "NP hard ---> a problem is NP hard if its soln is in NP. NP cannot be verified in polynomial time.\n",
        "\n",
        "NP complete ---> can be verified in polynomial time. \n",
        "\n",
        "All np hard problems can be approximated to the problem then it is NP complete. "
      ]
    },
    {
      "cell_type": "markdown",
      "metadata": {
        "id": "mzeZU4VYFXKq",
        "colab_type": "text"
      },
      "source": [
        "NP(Problem) - Solution is in non polynomial time\n",
        "P(Problem) - Max Solution time or Upper Bound is in Polynomial Time O(n^4) -> log n =[](is log n polynomial time or not ?)\n",
        "             (n*logn)\n",
        "              log 50(base10) - 1.69 ()<n^1\n",
        "              log 500(base10) - 2.69 ()<n^1\n",
        "              log 5000(base10) - 3.69 ()<n^1\n",
        "              for non linear change in n , change is linear\n",
        "\n",
        "NP () - n!\n",
        "        5!   120 -> <5^3\n",
        "        50!  3.0414093e+64 microsecs -> days -> 3.5201497e+53 days\n",
        "        500! \n",
        "        5000!\n",
        "NP Complete - > All NP hard problems can be approximated to the problem then it is NP Complete. \n",
        "NP hard - > A problem is NP Hard if its solution is in NP, Cannot be verified in Polynomial Time\n",
        "            \n",
        "AI Complete or \n",
        "AI Hard Problems\n",
        "SAT - n-SAT (2-SAT)"
      ]
    }
  ]
}